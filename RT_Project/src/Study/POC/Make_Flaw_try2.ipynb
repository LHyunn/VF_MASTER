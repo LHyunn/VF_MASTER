{
 "cells": [
  {
   "cell_type": "code",
   "execution_count": null,
   "metadata": {},
   "outputs": [],
   "source": [
    "import numpy as np\n",
    "import matplotlib.pyplot as plt\n",
    "from mpl_toolkits.mplot3d import Axes3D\n",
    "import os\n",
    "import cv2\n",
    "import preprocess as pp\n",
    "from preprocess import randint\n",
    "import sys\n",
    "from glob import glob\n",
    "import random\n",
    "np.set_printoptions(threshold=sys.maxsize)"
   ]
  },
  {
   "cell_type": "code",
   "execution_count": null,
   "metadata": {},
   "outputs": [],
   "source": [
    "image_list = glob('/home/VirtualFlaw/Data/Raw_jpg/New/**/*.jpg', recursive=True)\n",
    "random.shuffle(image_list)\n",
    "\n",
    "for images in image_list:\n",
    "    try:\n",
    "        weld_image = pp.WeldImage(images)\n",
    "        y1, y2 = weld_image.weld\n",
    "        depth = weld_image.depth\n",
    "        rand_y = (y1+ y2)//2\n",
    "        rand_try = randint(1, 5)\n",
    "        for i in range(rand_try):\n",
    "            flaw_size = randint(80, 130)\n",
    "            flaw_size = (flaw_size, flaw_size, depth)\n",
    "            weld_image.generateFlaw(flaw_size, type=\"PO\", location_y=rand_y+randint(-50, 50))\n",
    "        cv2.imwrite(f\"/home/VirtualFlaw/Hyun/Data/Generated/PO/{weld_image.filename}\", weld_image.image)\n",
    "    except Exception as e:\n",
    "        print(f\"Failed to generate {weld_image.filename}\")\n"
   ]
  },
  {
   "cell_type": "code",
   "execution_count": null,
   "metadata": {},
   "outputs": [],
   "source": [
    "image_list = glob('/home/VirtualFlaw/Data/Raw_jpg/ACC/*.jpg', recursive=True)\n",
    "random.shuffle(image_list)\n",
    "count = 1\n",
    "\n",
    "for images in image_list:\n",
    "    try:\n",
    "        weld_image = pp.WeldImage(images)\n",
    "        depth = weld_image.depth//4\n",
    "        if depth == 0:\n",
    "            depth = 1\n",
    "        flaw_size = (randint(10, 20),randint(1000, 2000), depth*2//3)\n",
    "        y1, y2 = weld_image.weld\n",
    "        mid = (y1+y2)//2\n",
    "        weld_image.generateFlaw(flaw_size, type=\"IP\", location_y=(mid + randint(50, -50)), location_x=randint(0, weld_image.image.shape[1]-flaw_size[1]))\n",
    "        cv2.imwrite(f\"/home/VirtualFlaw/Data_host/Generated/IP_Old/{weld_image.filename}\", weld_image.image)\n",
    "    except Exception as e:\n",
    "        print(f\"Failed to generate {weld_image.filename}\")\n"
   ]
  },
  {
   "cell_type": "code",
   "execution_count": null,
   "metadata": {},
   "outputs": [],
   "source": [
    "weld_image = pp.WeldImage(\"/home/VirtualFlaw/Data/Raw_jpg/New/22I002-02-003/22I002-02-003-1st-1-(1)-6.jpg\")\n",
    "flaw_size = (randint(10, 20),randint(1000, 2000),  weld_image.depth//4)\n",
    "y1, y2 = weld_image.weld\n",
    "weld_image.generateFlaw(flaw_size, type=\"IP\", location_y=randint(y1, y2), location_x=randint(0, 100))\n",
    "weld_image.imshow_2D()"
   ]
  },
  {
   "cell_type": "code",
   "execution_count": null,
   "metadata": {},
   "outputs": [],
   "source": [
    "image = cv2.imread(\"/home/VirtualFlaw/Data/Raw_jpg/ACC/22C023-14-002-1st-1-(1)-2.jpg\")\n",
    "image = cv2.rotate(image, cv2.ROTATE_90_CLOCKWISE)\n",
    "cv2.imwrite(\"/home/VirtualFlaw/Hyun/src/info/22C023-14-002-1st-1-(1)-2.jpg\", image)\n",
    "\n",
    "\n",
    "weld = pp.WeldImage(\"/home/VirtualFlaw/Hyun/src/info/22C023-14-002-1st-1-(1)-2.jpg\")\n",
    "weld.imshow_2D()\n",
    "split_image = weld.splitImage(8)\n",
    "print(split_image[0].shape)\n",
    "\n",
    "for i in range(len(split_image)):\n",
    "    \n",
    "    #split_image[i] = pp.motion_blur(split_image[i], 101, \"vertical\")\n",
    "    continue\n",
    "origin_images = split_image.copy()   \n",
    "for i in range(len(split_image)):    \n",
    "    split_image[i] = np.array(split_image[i], dtype=np.float32)\n",
    "\n",
    "for i in range(len(split_image)):\n",
    "    while split_image[i].shape[0] > 1:\n",
    "        split_image[i] = np.split(split_image[i], 2, axis=0)[0] + np.split(split_image[i], 2, axis=0)[1]\n",
    "    split_image[i] = np.squeeze(split_image[i])\n",
    "    #min-max normalization\n",
    "    #split_image[i] = (split_image[i] - np.min(split_image[i])) / (np.max(split_image[i]) - np.min(split_image[i]))\n",
    "    \n",
    "\n",
    "for i in range(len(split_image)):\n",
    "    \n",
    "    \n",
    "    \"\"\"plt.imshow(origin_images[i], cmap=\"gray\")\n",
    "    plt.figure()\"\"\"\n",
    "    plt.figure()\n",
    "    plt.imshow(origin_images[i], cmap=\"gray\")\n",
    "    \n",
    "    plt.figure()    \n",
    "    plt.plot(split_image[i], color=\"red\")\n"
   ]
  },
  {
   "cell_type": "code",
   "execution_count": null,
   "metadata": {},
   "outputs": [],
   "source": []
  }
 ],
 "metadata": {
  "kernelspec": {
   "display_name": "Python 3",
   "language": "python",
   "name": "python3"
  },
  "language_info": {
   "codemirror_mode": {
    "name": "ipython",
    "version": 3
   },
   "file_extension": ".py",
   "mimetype": "text/x-python",
   "name": "python",
   "nbconvert_exporter": "python",
   "pygments_lexer": "ipython3",
   "version": "3.8.10"
  },
  "orig_nbformat": 4,
  "vscode": {
   "interpreter": {
    "hash": "31f2aee4e71d21fbe5cf8b01ff0e069b9275f58929596ceb00d14d90e3e16cd6"
   }
  }
 },
 "nbformat": 4,
 "nbformat_minor": 2
}
