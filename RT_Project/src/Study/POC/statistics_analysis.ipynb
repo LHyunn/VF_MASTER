{
 "cells": [
  {
   "cell_type": "code",
   "execution_count": 1,
   "metadata": {},
   "outputs": [],
   "source": [
    "import pandas as pd\n",
    "import matplotlib.pyplot as plt\n",
    "import seaborn as sns\n"
   ]
  },
  {
   "cell_type": "code",
   "execution_count": 4,
   "metadata": {},
   "outputs": [],
   "source": [
    "df = pd.read_csv('/home/VirtualFlaw/Hyun/src/info/flaw_padding_10_info.csv')\n",
    "CATEGORY_THICKNESS_INFO_DF = pd.read_csv(\"/home/VirtualFlaw/Hyun/src/info/Product_Info.csv\")"
   ]
  },
  {
   "cell_type": "code",
   "execution_count": 5,
   "metadata": {},
   "outputs": [],
   "source": [
    "thickness = []\n",
    "for i in df[\"image_id\"]:\n",
    "    PIPE_THICKNESS = CATEGORY_THICKNESS_INFO_DF[CATEGORY_THICKNESS_INFO_DF['category'] == (i.split(\"-\")[0]+\"-\"+i.split(\"-\")[1]+\"-\"+i.split(\"-\")[2])]\n",
    "    thickness.append(str(PIPE_THICKNESS['thickness'].values[0])+\"mm\")\n",
    "    \n",
    "df['thickness'] = thickness\n",
    "    "
   ]
  },
  {
   "cell_type": "code",
   "execution_count": 8,
   "metadata": {},
   "outputs": [],
   "source": [
    "df.describe().to_csv(\"/home/VirtualFlaw/Hyun/src/info/flaw_padding_10_info_describe.csv\")\n"
   ]
  },
  {
   "cell_type": "code",
   "execution_count": null,
   "metadata": {},
   "outputs": [],
   "source": []
  }
 ],
 "metadata": {
  "kernelspec": {
   "display_name": "Python 3",
   "language": "python",
   "name": "python3"
  },
  "language_info": {
   "codemirror_mode": {
    "name": "ipython",
    "version": 3
   },
   "file_extension": ".py",
   "mimetype": "text/x-python",
   "name": "python",
   "nbconvert_exporter": "python",
   "pygments_lexer": "ipython3",
   "version": "3.8.10"
  },
  "orig_nbformat": 4,
  "vscode": {
   "interpreter": {
    "hash": "31f2aee4e71d21fbe5cf8b01ff0e069b9275f58929596ceb00d14d90e3e16cd6"
   }
  }
 },
 "nbformat": 4,
 "nbformat_minor": 2
}
