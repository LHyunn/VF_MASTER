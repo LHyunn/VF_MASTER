{
 "cells": [
  {
   "cell_type": "code",
   "execution_count": 3,
   "metadata": {},
   "outputs": [],
   "source": [
    "from preprocessing import preprocess\n",
    "import os\n",
    "from glob import glob\n",
    "import numpy as np\n",
    "import pandas as pd\n",
    "import natsort\n",
    "import matplotlib.pyplot as plt\n",
    "import cv2      \n",
    "from tqdm import tqdm\n",
    "import warnings\n",
    "warnings.filterwarnings('ignore')\n",
    "\n",
    "\n"
   ]
  },
  {
   "cell_type": "code",
   "execution_count": 8,
   "metadata": {},
   "outputs": [
    {
     "name": "stdout",
     "output_type": "stream",
     "text": [
      "1330\n"
     ]
    }
   ],
   "source": [
    "image_list = glob(\"/home/VirtualFlaw/Data/Raw_jpg/202212/REJ/**/*.jpg\", recursive=True)\n",
    "print(len(image_list))"
   ]
  },
  {
   "cell_type": "code",
   "execution_count": 3,
   "metadata": {},
   "outputs": [
    {
     "name": "stderr",
     "output_type": "stream",
     "text": [
      "  0%|▍                                                                                                                                                                          | 2/765 [00:14<1:31:42,  7.21s/it]"
     ]
    }
   ],
   "source": [
    "# 2023.02.20 Data Generator with Virtual Flaw.\n",
    "# 대상 Category: 202211 All, 202212 All\n",
    "# 전체 프로세스 : 두께별로 PO, IP 추가.\n",
    "# \n",
    "#\n",
    "\n",
    "CATEGORY_THICKNESS_INFO_DF = pd.read_csv('/home/VirtualFlaw/Hyun/src/info/Product_Info.csv')\n",
    "CATEGORY_LIST = natsort.natsorted(os.listdir('/home/VirtualFlaw/Data/Raw_jpg/202212')+os.listdir('/home/VirtualFlaw/Data/Raw_jpg/202211'))[2:] #REJ폴더 제외\n",
    "THICKNESS_LIST = natsort.natsorted(CATEGORY_THICKNESS_INFO_DF['thickness'].unique())\n",
    "for category in tqdm(CATEGORY_LIST):\n",
    "    thikness = CATEGORY_THICKNESS_INFO_DF[CATEGORY_THICKNESS_INFO_DF['category']==category]['thickness'].values[0]\n",
    "    image_list = glob('/home/VirtualFlaw/Data/Raw_jpg/202212/'+category+'/*.jpg')+glob('/home/VirtualFlaw/Data/Raw_jpg/202211/'+category+'/*.jpg')\n",
    "    image_list = natsort.natsorted(image_list)\n",
    "    image_list = image_list[3:-3]\n",
    "    for image in image_list:\n",
    "        img = cv2.imread(image, cv2.IMREAD_GRAYSCALE)\n",
    "        try:\n",
    "            if thikness < 17:\n",
    "                img, label = pp.generate_flaw(img, \"PO\")\n",
    "                \n",
    "                img = cv2.resize(img, (1024, 1024))\n",
    "                cv2.imwrite(f'/home/VirtualFlaw/Hyun/model/Data/Data_{version}/VirtualFlaw/'+image.split('/')[-1], img)\n",
    "                img = cv2.resize(img, (512, 512))\n",
    "                cv2.imwrite(f'/home/VirtualFlaw/Hyun/model/Data/Data_{version}_512/VirtualFlaw/'+image.split('/')[-1], img)\n",
    "                img = cv2.resize(img, (256, 256))\n",
    "                cv2.imwrite(f'/home/VirtualFlaw/Hyun/model/Data/Data_{version}_256/VirtualFlaw/'+image.split('/')[-1], img)\n",
    "                \n",
    "                label = cv2.resize(label, (1024, 1024))\n",
    "                cv2.imwrite(f'/home/VirtualFlaw/Hyun/model/Data/Data_{version}/Label/'+image.split('/')[-1], label)\n",
    "                label = cv2.resize(label, (512, 512))\n",
    "                cv2.imwrite(f'/home/VirtualFlaw/Hyun/model/Data/Data_{version}_512/Label/'+image.split('/')[-1], label)\n",
    "                label = cv2.resize(label, (256, 256))\n",
    "                cv2.imwrite(f'/home/VirtualFlaw/Hyun/model/Data/Data_{version}_256/Label/'+image.split('/')[-1], label)\n",
    "            \n",
    "                \n",
    "                \n",
    "            else:\n",
    "                break\n",
    "        except:\n",
    "            pass\n",
    "        #img = np.clip(img + (img - value2) * 1, 0, 255).astype(np.uint8)\n",
    "        \n",
    "    "
   ]
  },
  {
   "cell_type": "code",
   "execution_count": 3,
   "metadata": {},
   "outputs": [
    {
     "name": "stdout",
     "output_type": "stream",
     "text": [
      "58535\n"
     ]
    }
   ],
   "source": []
  },
  {
   "cell_type": "code",
   "execution_count": null,
   "metadata": {},
   "outputs": [],
   "source": []
  },
  {
   "cell_type": "code",
   "execution_count": null,
   "metadata": {},
   "outputs": [],
   "source": []
  }
 ],
 "metadata": {
  "kernelspec": {
   "display_name": "Python 3 (ipykernel)",
   "language": "python",
   "name": "python3"
  },
  "language_info": {
   "name": "python",
   "version": "3.8.10"
  },
  "orig_nbformat": 4,
  "vscode": {
   "interpreter": {
    "hash": "31f2aee4e71d21fbe5cf8b01ff0e069b9275f58929596ceb00d14d90e3e16cd6"
   }
  }
 },
 "nbformat": 4,
 "nbformat_minor": 2
}
