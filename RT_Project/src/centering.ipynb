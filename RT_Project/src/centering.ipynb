{
 "cells": [
  {
   "cell_type": "code",
   "execution_count": 88,
   "metadata": {},
   "outputs": [],
   "source": [
    "import os\n",
    "import sys\n",
    "from glob import glob\n",
    "import numpy as np\n",
    "import pandas as pd\n",
    "import cv2\n",
    "import matplotlib.pyplot as plt\n",
    "from natsort import natsorted"
   ]
  },
  {
   "cell_type": "code",
   "execution_count": 27,
   "metadata": {},
   "outputs": [],
   "source": [
    "def detect_weld(image, padding=0):\n",
    "    try:\n",
    "        image = cv2.rotate(image, cv2.ROTATE_90_CLOCKWISE)\n",
    "        image = cv2.normalize(image, None, 0, 255, cv2.NORM_MINMAX, cv2.CV_8U)\n",
    "        image = np.array(image, dtype=np.float32)\n",
    "        image = cv2.GaussianBlur(image, (31,31), 0)\n",
    "\n",
    "        for i in range(9):\n",
    "            image = np.split(image, 2, axis=0)\n",
    "            image = np.add(image[0], image[1])\n",
    "            \n",
    "        image = np.gradient(np.squeeze(image))\n",
    "        y1, y2 = 512 - int(np.argmin(image)) , 512 - int(np.argmax(image))\n",
    "    \n",
    "        \n",
    "        return (y1 - padding, y2 + padding)\n",
    "    except:\n",
    "        return -1, -1"
   ]
  },
  {
   "cell_type": "code",
   "execution_count": 94,
   "metadata": {},
   "outputs": [],
   "source": [
    "def image_centering(image, padding = 0):\n",
    "    #원래 이미지 사이즈\n",
    "    h, w = image.shape\n",
    "    #용접부의 중심점\n",
    "    y1, y2 = detect_weld(image, padding=padding)\n",
    "    \n",
    "    \n",
    "    # 용접부 상단, 용접부, 용접부 하단으로 나누기\n",
    "    top = image[:y1]\n",
    "    weld = image[y1:y2]\n",
    "    bottom = image[y2:]\n",
    "    \n",
    "    weld_center = weld.shape[0]//2\n",
    "    #top을 y가 512가 되도록 flip하면서 padding\n",
    "    top = np.flip(top, axis=0)\n",
    "    top = np.pad(top, ((0, 512 - top.shape[0]), (0,0)), 'reflect')\n",
    "    top = np.flip(top, axis=0)\n",
    "    \n",
    "    top = cv2.GaussianBlur(top, (3,3), 0)\n",
    "    bottom = np.pad(bottom, ((0, 512 - bottom.shape[0]), (0,0)), 'reflect')\n",
    "    bottom = cv2.GaussianBlur(bottom, (3,3), 0)\n",
    "    \n",
    "    #세로로 합치기\n",
    "    concat_img = np.concatenate((top, weld, bottom), axis=0)\n",
    "    \n",
    "    #용접부 중심 기준 원래 사이즈로 crop\n",
    "    weld_center = weld_center + 512\n",
    "    crop_img = concat_img[weld_center - h//2 : weld_center + h//2, :]\n",
    "\n",
    "    \n",
    "    \n",
    "\n",
    "    return crop_img\n",
    "    "
   ]
  },
  {
   "cell_type": "code",
   "execution_count": 97,
   "metadata": {},
   "outputs": [
    {
     "name": "stdout",
     "output_type": "stream",
     "text": [
      "/home/dais01/VirtualFlaw/RT_Project/src/Archive/2/img_#2_71169_1.tif\n",
      "/home/dais01/VirtualFlaw/RT_Project/src/Archive/1/img_#1_513_1.tif\n"
     ]
    }
   ],
   "source": [
    "image_list = glob(\"/home/dais01/VirtualFlaw/RT_Project/src/Archive/**/*.tif\", recursive=True)\n",
    "\n",
    "for image in image_list:\n",
    "    img = cv2.imread(image, cv2.IMREAD_GRAYSCALE)\n",
    "    try:\n",
    "        img = image_centering(img, padding=15)\n",
    "        cv2.imwrite(image.replace(\"Archive\", \"Archive_centering\").replace(\".tif\", \".png\"), img, [cv2.IMWRITE_PNG_COMPRESSION, 0])\n",
    "    except:\n",
    "        print(image)\n",
    "    \n",
    "    "
   ]
  },
  {
   "cell_type": "code",
   "execution_count": 89,
   "metadata": {},
   "outputs": [
    {
     "data": {
      "text/plain": [
       "True"
      ]
     },
     "execution_count": 89,
     "metadata": {},
     "output_type": "execute_result"
    }
   ],
   "source": [
    "\n",
    "    \n",
    "    \n",
    "    "
   ]
  },
  {
   "cell_type": "code",
   "execution_count": null,
   "metadata": {},
   "outputs": [],
   "source": []
  }
 ],
 "metadata": {
  "kernelspec": {
   "display_name": "Python 3",
   "language": "python",
   "name": "python3"
  },
  "language_info": {
   "codemirror_mode": {
    "name": "ipython",
    "version": 3
   },
   "file_extension": ".py",
   "mimetype": "text/x-python",
   "name": "python",
   "nbconvert_exporter": "python",
   "pygments_lexer": "ipython3",
   "version": "3.8.10"
  },
  "orig_nbformat": 4
 },
 "nbformat": 4,
 "nbformat_minor": 2
}
