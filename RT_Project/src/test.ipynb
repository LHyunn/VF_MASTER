{
 "cells": [
  {
   "cell_type": "code",
   "execution_count": 10,
   "metadata": {},
   "outputs": [
    {
     "name": "stdout",
     "output_type": "stream",
     "text": [
      "Flaw Config Version: 1.0.1\n",
      "Image Config Version: 1.0.0\n"
     ]
    }
   ],
   "source": [
    "import os\n",
    "import sys\n",
    "from glob import glob\n",
    "import numpy as np\n",
    "import pandas as pd\n",
    "import cv2\n",
    "import matplotlib.pyplot as plt\n",
    "sys.path.append(\"/home/dais01/VirtualFlaw/RT_Project\")\n",
    "from modules import preprocess\n"
   ]
  },
  {
   "cell_type": "code",
   "execution_count": 12,
   "metadata": {},
   "outputs": [],
   "source": [
    "def image_centering(image, variance = 0):\n",
    "    if abs(variance) > 500:\n",
    "        print(\"variance is out of range\")\n",
    "        return None\n",
    "    image_shape = image.shape\n",
    "    weld_part = preprocess.detect_weld(image)\n",
    "    if weld_part == (-1, -1):\n",
    "        print(\"Weld part is out of range\")\n",
    "        return None\n",
    "\n",
    "    y1, y2 = weld_part\n",
    "    center = (y1 + y2) // 2 + image_shape[0] + variance\n",
    "    flip_image = cv2.flip(image, 0)\n",
    "    image = np.concatenate((flip_image, image, flip_image), axis=0)\n",
    "    image = image[center - image_shape[0] // 2: center + image_shape[0] // 2, :]\n",
    "    return image\n",
    "    \n",
    "    \n",
    "    "
   ]
  },
  {
   "cell_type": "code",
   "execution_count": 13,
   "metadata": {},
   "outputs": [],
   "source": [
    "image_list = glob(\"/home/dais01/VirtualFlaw/RT_Project/src/Archive/**/*.tif\", recursive=True)\n",
    "\n",
    "for image in image_list:\n",
    "    img = cv2.imread(image, cv2.IMREAD_GRAYSCALE)\n",
    "    img = image_centering(img)\n",
    "    if img is None:\n",
    "        continue\n",
    "    cv2.imwrite(image, img)\n",
    "    "
   ]
  },
  {
   "cell_type": "markdown",
   "metadata": {},
   "source": []
  }
 ],
 "metadata": {
  "kernelspec": {
   "display_name": "Python 3",
   "language": "python",
   "name": "python3"
  },
  "language_info": {
   "codemirror_mode": {
    "name": "ipython",
    "version": 3
   },
   "file_extension": ".py",
   "mimetype": "text/x-python",
   "name": "python",
   "nbconvert_exporter": "python",
   "pygments_lexer": "ipython3",
   "version": "3.8.10"
  },
  "orig_nbformat": 4
 },
 "nbformat": 4,
 "nbformat_minor": 2
}
