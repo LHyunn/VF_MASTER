{
 "cells": [
  {
   "cell_type": "code",
   "execution_count": 2,
   "metadata": {},
   "outputs": [
    {
     "name": "stdout",
     "output_type": "stream",
     "text": [
      "Flaw Config Version: 1.0.1\n"
     ]
    },
    {
     "name": "stderr",
     "output_type": "stream",
     "text": [
      "2023-07-06 13:49:40,953\tINFO worker.py:1625 -- Started a local Ray instance.\n"
     ]
    }
   ],
   "source": [
    "import os\n",
    "from glob import glob \n",
    "import pandas as pd\n",
    "from tqdm import tqdm\n",
    "from natsort import natsorted\n",
    "import cv2\n",
    "import random \n",
    "import numpy as np\n",
    "import sys\n",
    "import random\n",
    "sys.path.append(\"/home/dais01/VirtualFlaw/RT_Project\")\n",
    "from modules import flaw\n",
    "import ray\n",
    "ray.init(num_cpus=70, ignore_reinit_error=True)\n",
    "PO_DIFF = flaw.PO_DIFF\n",
    "\n",
    "#warning 지우기\n",
    "import warnings\n",
    "warnings.filterwarnings(action='ignore')\n"
   ]
  },
  {
   "cell_type": "code",
   "execution_count": 12,
   "metadata": {},
   "outputs": [
    {
     "name": "stdout",
     "output_type": "stream",
     "text": [
      "32535\n",
      "32559\n",
      "31266\n",
      "32559\n"
     ]
    }
   ],
   "source": [
    "png_images = glob(\"/home/dais01/VF_MASTER/Generated_Flaw/CT/**/*.png\", recursive=True)\n",
    "print(len(png_images))\n",
    "png_images = glob(\"/home/dais01/VF_MASTER/Generated_Flaw/Leftover/**/*.png\", recursive=True)\n",
    "print(len(png_images))\n",
    "png_images = glob(\"/home/dais01/VF_MASTER/Generated_Flaw/PO/**/*.png\", recursive=True)\n",
    "print(len(png_images))\n",
    "png_images = glob(\"/home/dais01/VF_MASTER/Generated_Flaw/Scratch/**/*.png\", recursive=True)\n",
    "print(len(png_images))\n"
   ]
  },
  {
   "cell_type": "code",
   "execution_count": 4,
   "metadata": {},
   "outputs": [
    {
     "name": "stdout",
     "output_type": "stream",
     "text": [
      "Index(['image_path', 'image_name', 'category', 'thickness', 'NDT_result',\n",
      "       'Type', 'EndTab', 'Rework'],\n",
      "      dtype='object')\n",
      "['7.92mm', '8.74mm', '9.0mm', '9.5mm', '9.53mm', '10.31mm', '11.13mm', '12.0mm', '12.7mm', '14.27mm', '15.09mm', '15.88mm']\n"
     ]
    }
   ],
   "source": [
    "image_info = pd.read_csv(\"/home/dais01/VF_MASTER/Dataset_ALL/RT_Image_Info.csv\")\n",
    "print(image_info.columns)\n",
    "image_info = image_info[image_info['NDT_result'] == 'Accept']\n",
    "image_info = image_info[image_info['EndTab'] == 'N']\n",
    "image_info = image_info[image_info['Rework'] == 'N']\n",
    "thickness_list = image_info[\"thickness\"].unique()\n",
    "thickness_list = natsorted(thickness_list)\n",
    "thickness_list = thickness_list[:12]\n",
    "print(thickness_list)\n",
    "\n",
    "    "
   ]
  },
  {
   "cell_type": "code",
   "execution_count": 10,
   "metadata": {},
   "outputs": [
    {
     "name": "stdout",
     "output_type": "stream",
     "text": [
      "(38991, 8)\n"
     ]
    }
   ],
   "source": [
    "#두께별로 3천개씩 추출\n",
    "df_concat = pd.DataFrame()\n",
    "for thickness in thickness_list:\n",
    "    df_temp = image_info[image_info[\"thickness\"] == thickness]\n",
    "    try:\n",
    "        df_temp = df_temp.sample(n=5000)\n",
    "    except ValueError:\n",
    "        df_temp = df_temp.sample(n=len(df_temp))\n",
    "    df_concat = pd.concat([df_concat, df_temp])\n",
    "    \n",
    "df = df_concat\n",
    "print(df.shape) \n",
    "\n",
    "\n",
    "path_list = []\n",
    "for i in range(len(df)):\n",
    "    image = df.iloc[i][\"image_name\"]\n",
    "    category = df.iloc[i][\"category\"]\n",
    "    thickness = df.iloc[i][\"thickness\"].replace(\"mm\", \"\")\n",
    "    file_path = df.iloc[i][\"image_path\"]\n",
    "    path_list.append(file_path)\n",
    "    \n",
    "    \n",
    "#path_list에서 300개 추출\n",
    "path_list = random.sample(path_list, 1000)\n",
    "\n"
   ]
  },
  {
   "cell_type": "code",
   "execution_count": 11,
   "metadata": {},
   "outputs": [
    {
     "name": "stderr",
     "output_type": "stream",
     "text": [
      "  0%|          | 0/1000 [00:00<?, ?it/s]"
     ]
    },
    {
     "name": "stderr",
     "output_type": "stream",
     "text": [
      "100%|██████████| 1000/1000 [00:00<00:00, 7047.14it/s]\n"
     ]
    },
    {
     "name": "stdout",
     "output_type": "stream",
     "text": [
      "\u001b[2m\u001b[36m(generate_virtual_flaw pid=59587)\u001b[0m 22G009-03-006-1st-1-(1)-24.png\u001b[32m [repeated 436x across cluster]\u001b[0m\n"
     ]
    },
    {
     "name": "stderr",
     "output_type": "stream",
     "text": [
      "100%|██████████| 1000/1000 [00:00<00:00, 4281.72it/s]\n"
     ]
    },
    {
     "name": "stdout",
     "output_type": "stream",
     "text": [
      "\u001b[2m\u001b[36m(generate_virtual_flaw pid=59632)\u001b[0m 22G009-25-004-1st-1-(1)-38.png\u001b[32m [repeated 1167x across cluster]\u001b[0m\n"
     ]
    },
    {
     "name": "stderr",
     "output_type": "stream",
     "text": [
      "100%|██████████| 1000/1000 [00:00<00:00, 4264.94it/s]\n"
     ]
    },
    {
     "name": "stdout",
     "output_type": "stream",
     "text": [
      "\u001b[2m\u001b[36m(generate_virtual_flaw pid=59604)\u001b[0m 22I018-05-004-1st-1-(2)-42.png\u001b[32m [repeated 1303x across cluster]\u001b[0m\n"
     ]
    },
    {
     "name": "stderr",
     "output_type": "stream",
     "text": [
      "100%|██████████| 1000/1000 [00:00<00:00, 4762.55it/s]\n"
     ]
    },
    {
     "name": "stdout",
     "output_type": "stream",
     "text": [
      "\u001b[2m\u001b[36m(generate_virtual_flaw pid=59636)\u001b[0m 22H007-01-001-1st-1-(1)-34.png\u001b[32m [repeated 1315x across cluster]\u001b[0m\n"
     ]
    }
   ],
   "source": [
    "PO_list = glob(\"/home/dais01/VF_MASTER/Data/PO/Deformed_Flaw/*.npy\")\n",
    "Scratch_list = glob(\"/home/dais01/VF_MASTER/Data/Scratch/Deformed_Flaw/*.npy\")\n",
    "Leftover_list = glob(\"/home/dais01/VF_MASTER/Data/Leftover/Deformed_Flaw/*.npy\")\n",
    "CT_list = glob(\"/home/dais01/VF_MASTER/Data/CT/Deformed_Flaw/*.npy\")\n",
    "\n",
    "\n",
    "@ray.remote\n",
    "def generate_virtual_flaw(image_path, padding = -40, fade = 50, flaw_type = \"PO\"):\n",
    "    image_name = image_path.split(\"/\")[-1]\n",
    "    print(image_name)\n",
    "    image = cv2.imread(image_path, cv2.IMREAD_GRAYSCALE) # 이미지를 불러옴.\n",
    "    origin_image = image.copy() # 원본 이미지 저장. 나중에 비교해서 보여주려고.\n",
    "    image = np.float32(image) # 이미지를 float32로 변환. 결함을 합성할 때 정수가 아니라 실수로 계산하고 나중에 uint8로 변환함.\n",
    "    calc_image = image.copy() # 용접부 찾을 이미지.\n",
    "\n",
    "    # Masking\n",
    "    PO_mask_image = np.zeros_like(image) # PO 결함들을 합성할 위치를 나타내는 마스크.\n",
    "    Scratch_Leftover_mask_image = np.ones_like(image)\n",
    "    CT_mask_image = np.zeros_like(image)\n",
    "\n",
    "    # 용접부 Detection\n",
    "    calc_image = cv2.rotate(calc_image, cv2.ROTATE_90_CLOCKWISE)\n",
    "    calc_image = cv2.normalize(calc_image, None, 0, 1000, cv2.NORM_MINMAX, cv2.CV_32F)\n",
    "    calc_image = cv2.GaussianBlur(calc_image, (31,31), 0)\n",
    "    calc_image = cv2.resize(calc_image, (512, 512))\n",
    "    calc_image = np.array(calc_image, dtype=np.float32)\n",
    "    try:\n",
    "        for i in range(9):\n",
    "            calc_image = np.split(calc_image, 2, axis=0)\n",
    "            calc_image = np.add(calc_image[0], calc_image[1])\n",
    "\n",
    "        calc_image = np.gradient(np.squeeze(calc_image))\n",
    "        y1, y2 = 1256 - int(np.argmax(calc_image)* 1256 / 512), 1256 - int(np.argmin(calc_image)* 1256 / 512)\n",
    "        if y1 < 100 or y2 > 1056:\n",
    "            raise Exception(\"y1 or y2 is out of range\")\n",
    "        \n",
    "        y1 = y1 - padding\n",
    "        y2 = y2 + padding\n",
    "        # Masking -> 용접부는 흰색\n",
    "        PO_mask_image[y1:y2, :] = 1\n",
    "        # 용접부의 위아래 padding 부분에는 점점 0으로 줄어들게 만들기\n",
    "        PO_mask_image[y1-fade:y1, :] = np.repeat(np.linspace(0, 1, fade)[:, None], PO_mask_image.shape[1], axis=1)\n",
    "        PO_mask_image[y2:y2+fade, :] = np.repeat(np.linspace(1, 0, fade)[:, None], PO_mask_image.shape[1], axis=1)\n",
    "        Scratch_Leftover_mask_image = Scratch_Leftover_mask_image - PO_mask_image\n",
    "        # Scratch_Leftover_mask_image는 PO_mask_image의 반전\n",
    "        \n",
    "        \n",
    "        CT_mask_image[y1-60:y2+60, :] = 1 # CT는 모재부에도 침범하는 결함을 합성할 수 있도록.\n",
    "        CT_mask_image[y1-60-fade:y1-60, :] = np.repeat(np.linspace(0, 1, fade)[:, None], CT_mask_image.shape[1], axis=1)\n",
    "        CT_mask_image[y2+60:y2+60+fade, :] = np.repeat(np.linspace(1, 0, fade)[:, None], CT_mask_image.shape[1], axis=1)\n",
    "\n",
    "        temp_image = np.zeros_like(image)\n",
    "        #세로로 이어붙인다. 임시 이미지에 결함을 합성하고 나중에 다시 잘라내고 PO_mask_image를 곱한다.\n",
    "        temp_image = np.concatenate([temp_image, PO_mask_image, temp_image,], axis=0)\n",
    "        flaw_image = np.zeros_like(temp_image)\n",
    "        y1, y2 = y1 + 1256, y2 + 1256\n",
    "        if flaw_type == \"Random\":\n",
    "            flaw_type = np.random.choice([\"PO\", \"CT\", \"Scratch\", \"Leftover\"])\n",
    "        \n",
    "    \n",
    "        if flaw_type == \"PO\":\n",
    "            random_try = np.random.randint(3, 6)\n",
    "            for _ in range(random_try):\n",
    "                random_flaw = np.random.choice(PO_list)\n",
    "                random_flaw = np.load(random_flaw)\n",
    "                random_flaw = np.asarray(random_flaw, dtype=np.float32)\n",
    "                #flaw_image의 랜덤한 위치에 random_flaw를 넣기\n",
    "                x = np.random.randint(0, image.shape[1] - random_flaw.shape[1])\n",
    "                y = np.random.randint(y1, y2 - random_flaw.shape[0])\n",
    "                \n",
    "                flaw_image[y:y+random_flaw.shape[0], x:x+random_flaw.shape[1]] += random_flaw \n",
    "                \n",
    "            flaw_image = flaw_image[1256:1256*2, :]\n",
    "            flaw_image = flaw_image * PO_mask_image\n",
    "            # 원본이미지와 같은 사이즈의 검정색 이미지 2장을 준비함\n",
    "            # 1장(flaw_image)은 결함만 두두두두, 1장은 용접부 경계선 스무딩한 것 -> 곱함 -> 용접부 경계선에 있는 결함은 흐려짐\n",
    "            # 정상이미지에 더함\n",
    "            \n",
    "\n",
    "        if flaw_type == \"CT\":\n",
    "            random_flaw = np.random.choice(CT_list)\n",
    "            random_flaw = np.load(random_flaw)\n",
    "            random_flaw = np.asarray(random_flaw, dtype=np.float32)\n",
    "            #flaw_image의 랜덤한 위치에 random_flaw를 넣기\n",
    "            x = np.random.randint(0, image.shape[1] - random_flaw.shape[1])\n",
    "            y = np.random.randint(y1-random_flaw.shape[0], y2)\n",
    "            flaw_image[y:y+random_flaw.shape[0], x:x+random_flaw.shape[1]] += random_flaw * 1\n",
    "                \n",
    "            flaw_image = flaw_image[1256:1256*2, :]\n",
    "            flaw_image = flaw_image * CT_mask_image\n",
    "                \n",
    "        elif flaw_type == \"Scratch\":\n",
    "            random_try = np.random.randint(2, 3)\n",
    "            for _ in range(random_try):\n",
    "                random_flaw = np.random.choice(Scratch_list)\n",
    "                random_flaw = np.load(random_flaw)\n",
    "                random_flaw = np.asarray(random_flaw, dtype=np.float32)\n",
    "                #flaw_image의 랜덤한 위치에 random_flaw를 넣기\n",
    "                x = np.random.randint(0, image.shape[1] - random_flaw.shape[1])\n",
    "                y_top = np.random.randint(y2, y2 + 100)\n",
    "                y_bottom = np.random.randint(y1 - 100, y1 )\n",
    "                y = np.random.choice([y_top, y_bottom])\n",
    "                if y == y_bottom:\n",
    "                    flaw_image[y-random_flaw.shape[0]:y, x:x+random_flaw.shape[1]] += random_flaw * 1.5\n",
    "                    \n",
    "                elif y == y_top:\n",
    "                    flaw_image[y:y+random_flaw.shape[0], x:x+random_flaw.shape[1]] += random_flaw * 1.5\n",
    "                \n",
    "            flaw_image = flaw_image[1256:1256*2, :]\n",
    "            flaw_image = flaw_image * Scratch_Leftover_mask_image\n",
    "            \n",
    "        elif flaw_type == \"Leftover\":\n",
    "            random_try = np.random.randint(3, 4)\n",
    "            for _ in range(random_try):\n",
    "                random_flaw = np.random.choice(Leftover_list)\n",
    "                random_flaw = np.load(random_flaw)\n",
    "                random_flaw = np.asarray(random_flaw, dtype=np.float32)\n",
    "                #flaw_image의 랜덤한 위치에 random_flaw를 넣기\n",
    "                x = np.random.randint(0, image.shape[1] - random_flaw.shape[1])\n",
    "                y_top = np.random.randint(y2, y2 + 600)\n",
    "                y_bottom = np.random.randint(y1 - 600, y1 )\n",
    "                y = np.random.choice([y_top, y_bottom])\n",
    "                if y == y_bottom:\n",
    "                    flaw_image[y-random_flaw.shape[0]:y, x:x+random_flaw.shape[1]] += random_flaw * 1\n",
    "                elif y == y_top:\n",
    "                    flaw_image[y:y+random_flaw.shape[0], x:x+random_flaw.shape[1]] += random_flaw * 1\n",
    "            \n",
    "            flaw_image = flaw_image[1256:1256*2, :]\n",
    "            flaw_image = flaw_image * Scratch_Leftover_mask_image\n",
    "        image += flaw_image\n",
    "        #image = cv2.normalize(image, None, 0, 255, cv2.NORM_MINMAX, cv2.CV_8U)\n",
    "        \n",
    "        save_path = f\"/home/dais01/VF_MASTER/Generated_Flaw/{flaw_type}\"\n",
    "        os.makedirs(save_path + \"/Accept\", exist_ok=True)\n",
    "        os.makedirs(save_path + \"/Reject\", exist_ok=True)\n",
    "        os.makedirs(save_path + \"/Diff\", exist_ok=True)\n",
    "        \n",
    "        #합성된 이미지\n",
    "        cv2.imwrite(save_path + \"/Reject/\" + image_name, image, [cv2.IMWRITE_PNG_COMPRESSION, 0])\n",
    "        #차이 이미지. flaw_image에서 0이 아닌 픽셀은 모두 255로 만들어서 저장\n",
    "        diff = np.zeros_like(image)\n",
    "        diff = np.where(flaw_image != 0, 255, 0)\n",
    "        cv2.imwrite(save_path + \"/Diff/\" + image_name.replace(\".png\", \"_diff.png\"), diff, [cv2.IMWRITE_PNG_COMPRESSION, 0])\n",
    "        #원본이미지\n",
    "        #origin_image = cv2.normalize(origin_image, None, 0, 255, cv2.NORM_MINMAX, cv2.CV_8U)\n",
    "        cv2.imwrite(save_path + \"/Accept/\" + image_name, origin_image, [cv2.IMWRITE_PNG_COMPRESSION, 0])\n",
    "        \n",
    "    except:\n",
    "        pass\n",
    "        \n",
    "    \n",
    "        \n",
    "            \n",
    "        \n",
    "        \n",
    "for flaw_type in [\"PO\", \"CT\", \"Scratch\", \"Leftover\"]:\n",
    "    ray.get([generate_virtual_flaw.remote(path_list[i], flaw_type = flaw_type) for i in tqdm(range(len(path_list)))])\n",
    "\n",
    "         \n",
    "        \n",
    "        \n",
    "        "
   ]
  },
  {
   "cell_type": "code",
   "execution_count": null,
   "metadata": {},
   "outputs": [],
   "source": []
  },
  {
   "cell_type": "code",
   "execution_count": null,
   "metadata": {},
   "outputs": [],
   "source": []
  }
 ],
 "metadata": {
  "kernelspec": {
   "display_name": "Python 3",
   "language": "python",
   "name": "python3"
  },
  "language_info": {
   "codemirror_mode": {
    "name": "ipython",
    "version": 3
   },
   "file_extension": ".py",
   "mimetype": "text/x-python",
   "name": "python",
   "nbconvert_exporter": "python",
   "pygments_lexer": "ipython3",
   "version": "3.8.10"
  },
  "orig_nbformat": 4
 },
 "nbformat": 4,
 "nbformat_minor": 2
}
