{
 "cells": [
  {
   "cell_type": "code",
   "execution_count": 1,
   "metadata": {},
   "outputs": [],
   "source": [
    "import cv2\n",
    "import pandas as pd\n",
    "import numpy as np\n",
    "from glob import glob\n",
    "from tqdm import tqdm\n",
    "import os\n",
    "from natsort import natsorted\n",
    "from matplotlib import pyplot as plt\n",
    "from skimage.restoration import inpaint\n",
    "import shutil"
   ]
  },
  {
   "attachments": {},
   "cell_type": "markdown",
   "metadata": {},
   "source": [
    "노트북 설명\n",
    "\n",
    "목적  : 포토샵으로 세그멘테이션한 이미지를 불러와, 원본의 이미지에서 세그멘테이션한 부분을 추출하는 코드.\n",
    "\n",
    "2023.03.10\n",
    "\n",
    "이미지 상에서 나타나는 결함은 GrayScale값의 변화로 나타난다. 결함 부분에서 결함이 없을 때의 GrayScale값과 결함이 있을 때의 GrayScale값의 차이를 이용하여 결함을 추출하려 한다.\n",
    "\n",
    "inpaint 관련 여러 알고리즘 또는 모델을 알아보려 함."
   ]
  },
  {
   "cell_type": "code",
   "execution_count": null,
   "metadata": {},
   "outputs": [],
   "source": [
    "def extract_flaw(ground_truth, origin, padding=0, file_name=None):\n",
    "    \"\"\"\n",
    "    Extract flaw from origin\n",
    "    :param ground_truth: ground truth image\n",
    "    :param origin: origin image\n",
    "    :param padding: padding size\n",
    "    :return: flaw image\n",
    "    \"\"\"\n",
    "    image_name = os.path.basename(ground_truth).split('.')[0]\n",
    "    # Read ground truth\n",
    "    mask = cv2.imread(ground_truth, cv2.IMREAD_GRAYSCALE) # 우리가 만든 마스킹\n",
    "    # Read origin\n",
    "    image_orig = cv2.imread(origin, cv2.IMREAD_GRAYSCALE) # 원본 이미지(결함 있음)\n",
    "    mask2 = mask / 255\n",
    "    image_defect = image_orig * (1 - mask2)\n",
    "    image_result = inpaint.inpaint_biharmonic(image_defect, mask2)\n",
    "    image_result = image_result.astype(np.uint8)\n",
    "    image_diff = cv2.subtract(image_orig, image_result)\n",
    "    \n",
    "    #결과 이미지 : image_result\n",
    "    #마스크 이미지 : image_defect\n",
    "    #원본 이미지 : image_orig\n",
    "    \n",
    "    #마스크 확장. \n",
    "    _, gt_bin = cv2.threshold(mask, 0, 255, cv2.THRESH_OTSU)  # 0보다 크면 255, 0보다 작으면 0 \n",
    "    dilatation = cv2.getStructuringElement(cv2.MORPH_RECT, (5,5))\n",
    "    gt_bin_dil = cv2.dilate(gt_bin, dilatation, iterations=1) # 팽창. 마스킹을 좀 더 키워서 결함을 더 잘 감싸도록 함.\n",
    "    \n",
    "    #인페인팅\n",
    "    \n",
    "    \n",
    "    cnt, labels, stats, centroids = cv2.connectedComponentsWithStats(gt_bin_dil) #윤곽선 추출해서 사각형으로 보여줌.\n",
    "    count = 0\n",
    "    for i in range(1, cnt):\n",
    "        x, y, w, h, s = stats[i]\n",
    "        x = x - padding \n",
    "        y = y - padding\n",
    "        w = w + 2 * padding\n",
    "        h = h + 2 * padding\n",
    "        if x < 0:\n",
    "            x = 0\n",
    "        if y < 0:\n",
    "            y = 0\n",
    "        if x + w > mask.shape[1]:\n",
    "            w = mask.shape[1] - x\n",
    "        if y + h > mask.shape[0]:\n",
    "            h = mask.shape[0] - y\n",
    "        SD = image_diff[y:y + h, x:x + w]\n",
    "        # numpy array로 저장\n",
    "        np.save(f'/home/VirtualFlaw/Dataset_Unet/Extracted/{image_name}_{count}.npy', SD)\n",
    "        \n",
    "        count += 1\n",
    "        \n"
   ]
  },
  {
   "cell_type": "code",
   "execution_count": null,
   "metadata": {},
   "outputs": [],
   "source": [
    "ground_truths = \"/home/VirtualFlaw/Dataset_Unet/Ground_truth/\"\n",
    "origins = glob('/home/VirtualFlaw/Dataset_Unet/origin/Leftover/*.png')\n",
    "origins = natsorted(origins)\n",
    "\n",
    "for i in range(len(origins)):\n",
    "    file_name = os.path.basename(origins[i]).split('.')[0]\n",
    "    ground_truth = ground_truths + file_name + '.png'\n",
    "    extract_flaw(ground_truth, origins[i], padding=0, file_name=file_name)"
   ]
  },
  {
   "cell_type": "code",
   "execution_count": null,
   "metadata": {},
   "outputs": [],
   "source": [
    "REJ_image = glob(\"/home/VirtualFlaw/Data/IMAGE/Raw_jpg/202211/REJ/**/*.jpg\", recursive=True) + glob(\"/home/VirtualFlaw/Data/IMAGE/Raw_jpg/202212/REJ/**/*.jpg\", recursive=True)\n",
    "Seg_image = glob(\"/home/VirtualFlaw/Data/Hyun/data/Segmented_PO/Origin_normalized/*.jpg\")\n",
    "REJ_image_name = REJ_image.copy()\n",
    "print(len(REJ_image), len(Seg_image))\n",
    "#file name\n",
    "for i in range(len(Seg_image)):\n",
    "    Seg_image[i] = os.path.basename(Seg_image[i]).split('.')[0]\n",
    "\n",
    "for i in range(len(REJ_image_name)):\n",
    "    REJ_image_name[i] = os.path.basename(REJ_image_name[i]).split('.')[0]\n",
    "\n",
    "image_list = []\n",
    "\n",
    "for i in range(len(REJ_image_name)):\n",
    "    if REJ_image_name[i] in Seg_image:\n",
    "        print(REJ_image[i])\n",
    "        image_list.append(REJ_image[i])\n",
    "        \n",
    "for i in image_list:\n",
    "    shutil.copy(i, '/home/VirtualFlaw/Data/Hyun/data/Segmented_PO/Origin')\n"
   ]
  },
  {
   "cell_type": "code",
   "execution_count": null,
   "metadata": {},
   "outputs": [],
   "source": [
    "origin_folder = \"/home/VirtualFlaw/RT_Project/src/Study/PO_Inpainted\"\n",
    "removed_flaw_folder = \"/home/VirtualFlaw/RT_Project/src/Study/PO_Origin\"\n",
    "origin_images = glob(origin_folder + \"/*.jpg\")\n",
    "removed_flaw_images = glob(removed_flaw_folder + \"/*.jpg\")\n",
    "origin_images = natsorted(origin_images)\n",
    "removed_flaw_images = natsorted(removed_flaw_images)\n",
    "\n",
    "for i in range(len(origin_images)):\n",
    "    print(origin_images[i])\n",
    "    extract_flaw(origin_images[i], removed_flaw_images[i], padding=0, file_name=os.path.basename(origin_images[i]).split('.')[0])\n",
    "    \n"
   ]
  },
  {
   "cell_type": "code",
   "execution_count": null,
   "metadata": {},
   "outputs": [],
   "source": [
    "file_name = glob(\"/home/VirtualFlaw/RT_Project/src/Study/PO/*.jpg\")\n",
    "file_name = [os.path.basename(i).split('.')[0] for i in file_name]  \n",
    "\n",
    "\n",
    "origin_file = glob(\"/home/dais01/HyundaiRB/Data/Raw_Data/REJ/**/*.jpg\", recursive=True)\n",
    "for file in file_name:\n",
    "    for origin in origin_file:\n",
    "        if file in origin:\n",
    "            shutil.copy(origin, '/home/VirtualFlaw/RT_Project/src/Study/PO_origin')\n",
    "            break"
   ]
  },
  {
   "cell_type": "code",
   "execution_count": null,
   "metadata": {},
   "outputs": [],
   "source": [
    "origin_images = glob('/home/VirtualFlaw/RT_Project/src/Study/PO_Origin/*.jpg')\n",
    "mask_images = glob('/home/VirtualFlaw/RT_Project/src/Study/Mask/*.jpg')\n",
    "\n",
    "origin_images = natsorted(origin_images)\n",
    "mask_images = natsorted(mask_images)\n",
    "\n",
    "print(len(origin_images), len(mask_images))\n",
    "\n",
    "\n",
    "for i in range(len(origin_images)):\n",
    "    print(origin_images[i], mask_images[i])\n",
    "    \n",
    "    cv2.imwrite('/home/VirtualFlaw/RT_Project/src/Study/PO_Inpainted/' + os.path.basename(origin_images[i]), image_result, [int(cv2.IMWRITE_JPEG_QUALITY), 100])"
   ]
  },
  {
   "cell_type": "code",
   "execution_count": null,
   "metadata": {},
   "outputs": [],
   "source": [
    "ground_truths = \"/home/VirtualFlaw/Dataset_Unet/Ground_truth/\"\n",
    "origins = glob('/home/VirtualFlaw/Dataset_Unet/origin/Leftover/*.png') + glob('/home/VirtualFlaw/Dataset_Unet/origin/Scratch/*.png')\n",
    "\n",
    "origins = natsorted(origins)\n",
    "\n",
    "for i in range(len(origins)):\n",
    "    file_name = os.path.basename(origins[i]).split('.')[0]\n",
    "    ground_truth = ground_truths + file_name + '.png'\n",
    "    img = cv2.imread(origins[i])\n",
    "    img = cv2.normalize(img, None, 0, 255, cv2.NORM_MINMAX)\n",
    "    cv2.imwrite('/home/VirtualFlaw/Dataset_Unet/inpainting/origin/' + file_name + '.png', img, [cv2.IMWRITE_PNG_COMPRESSION, 0])\n",
    "    cv2.imwrite('/home/VirtualFlaw/Dataset_Unet/inpainting/Ground_truth/' + file_name + '.png', cv2.imread(ground_truth), [cv2.IMWRITE_PNG_COMPRESSION, 0])"
   ]
  }
 ],
 "metadata": {
  "kernelspec": {
   "display_name": "Python 3 (ipykernel)",
   "language": "python",
   "name": "python3"
  },
  "language_info": {
   "codemirror_mode": {
    "name": "ipython",
    "version": 3
   },
   "file_extension": ".py",
   "mimetype": "text/x-python",
   "name": "python",
   "nbconvert_exporter": "python",
   "pygments_lexer": "ipython3",
   "version": "3.8.10"
  },
  "orig_nbformat": 4,
  "vscode": {
   "interpreter": {
    "hash": "31f2aee4e71d21fbe5cf8b01ff0e069b9275f58929596ceb00d14d90e3e16cd6"
   }
  }
 },
 "nbformat": 4,
 "nbformat_minor": 2
}
