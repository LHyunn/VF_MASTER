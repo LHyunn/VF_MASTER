{
 "cells": [
  {
   "cell_type": "code",
   "execution_count": 3,
   "metadata": {},
   "outputs": [],
   "source": [
    "import os\n",
    "import config\n",
    "from tqdm import tqdm\n",
    "DATA_PATH = config.DATA_PATH\n",
    "import cv2\n",
    "import numpy as np\n",
    "from glob import glob\n",
    "import matplotlib.pyplot as plt\n",
    "import natsort\n",
    "import sklearn.cluster as cluster"
   ]
  },
  {
   "cell_type": "code",
   "execution_count": 46,
   "metadata": {},
   "outputs": [],
   "source": [
    "def add_img(type, i, images):\n",
    "    #이미지를 겹쳐서 이미지수로 나누어 평균을 낸다.\n",
    "    try:\n",
    "        images.pop()\n",
    "        images.pop()\n",
    "        images.pop()\n",
    "        images.pop(0)\n",
    "        images.pop(0)\n",
    "        images.pop(0)\n",
    "        alpha = 1.0 / len(images)\n",
    "    except:\n",
    "        print(\"less than 6 images\", i)\n",
    "        return\n",
    "    for j in range(len(images)):\n",
    "        img = cv2.imread(images[j])\n",
    "        img = cv2.cvtColor(img, cv2.COLOR_BGR2GRAY)\n",
    "        img = cv2.normalize(img, None, 0, 255, cv2.NORM_MINMAX)\n",
    "        if j == 0:\n",
    "            img_sum = img\n",
    "        else:\n",
    "            img_sum = cv2.addWeighted(img_sum, 1.0, img, alpha, 0)\n",
    "    cv2.imwrite(f'/home/VirtualFlaw/Data/Raw_jpg/{type}_Add/' + str(i) + '.jpg', img)"
   ]
  },
  {
   "cell_type": "code",
   "execution_count": null,
   "metadata": {},
   "outputs": [],
   "source": []
  },
  {
   "cell_type": "code",
   "execution_count": 47,
   "metadata": {},
   "outputs": [
    {
     "name": "stderr",
     "output_type": "stream",
     "text": [
      " 35%|███▌      | 21/60 [00:10<00:16,  2.34it/s]"
     ]
    },
    {
     "name": "stdout",
     "output_type": "stream",
     "text": [
      "less than 6 images 22C042-06-008-1st-1-(2)\n"
     ]
    },
    {
     "name": "stderr",
     "output_type": "stream",
     "text": [
      "100%|██████████| 60/60 [00:32<00:00,  1.87it/s]\n"
     ]
    }
   ],
   "source": [
    "type = \"ACC\"\n",
    "image_list = os.listdir(f\"/home/VirtualFlaw/Data/Raw_jpg/{type}\")\n",
    "image_category_list = []\n",
    "for i in range(len(image_list)):\n",
    "    image_category_list.append(image_list[i].split(\"-\")[0] + \"-\" + image_list[i].split(\"-\")[1] + \"-\" + image_list[i].split(\"-\")[2]+ \"-\" + image_list[i].split(\"-\")[3]+ \"-\" + image_list[i].split(\"-\")[4]+ \"-\" + image_list[i].split(\"-\")[5])\n",
    "image_category_list = list(set(image_category_list))\n",
    "\n",
    "count = 0\n",
    "image_shape = [1256, 1256, 3]\n",
    "for i in tqdm(image_category_list):\n",
    "    images = glob(f\"/home/VirtualFlaw/Data/Raw_jpg/ACC/{i}*.jpg\")\n",
    "    images = natsort.natsorted(images)\n",
    "    add_img(type, i, images)\n",
    "    count += 1\n",
    "    if count == 100:\n",
    "        break\n",
    "    \n",
    "    "
   ]
  },
  {
   "cell_type": "code",
   "execution_count": 5,
   "metadata": {},
   "outputs": [],
   "source": [
    "def add_img(i, images):\n",
    "    #이미지를 겹쳐서 이미지수로 나누어 평균을 낸다.\n",
    "    try:\n",
    "        images.pop()\n",
    "        images.pop()\n",
    "        images.pop()\n",
    "        images.pop(0)\n",
    "        images.pop(0)\n",
    "        images.pop(0)\n",
    "        alpha = 1.0 / len(images)\n",
    "    except:\n",
    "        print(\"less than 6 images\", i)\n",
    "        return\n",
    "    for j in range(len(images)):\n",
    "        img = cv2.imread(images[j])\n",
    "        img = cv2.cvtColor(img, cv2.COLOR_BGR2GRAY)\n",
    "        img = cv2.normalize(img, None, 0, 255, cv2.NORM_MINMAX)\n",
    "        if j == 0:\n",
    "            img_sum = img\n",
    "        else:\n",
    "            img_sum = cv2.addWeighted(img_sum, 1.0, img, alpha, 0)\n",
    "    cv2.imwrite(f\"/home/VirtualFlaw/Hyun/Data/Added/{i}.jpg\", img)"
   ]
  },
  {
   "cell_type": "code",
   "execution_count": 10,
   "metadata": {},
   "outputs": [
    {
     "name": "stderr",
     "output_type": "stream",
     "text": [
      "100%|██████████| 30/30 [00:40<00:00,  1.34s/it]\n"
     ]
    }
   ],
   "source": [
    "image_list = os.listdir(f\"/home/VirtualFlaw/Data/Raw_jpg/ACC\")\n",
    "image_category_list = []\n",
    "for i in range(len(image_list)):\n",
    "    image_category_list.append(image_list[i].split(\"-\")[0] + \"-\" + image_list[i].split(\"-\")[1] + \"-\" + image_list[i].split(\"-\")[2]+ \"-\" + image_list[i].split(\"-\")[3]+ \"-\" + image_list[i].split(\"-\")[4])\n",
    "image_category_list = list(set(image_category_list))\n",
    "\n",
    "count = 0\n",
    "image_shape = [1256, 1256, 3]\n",
    "for i in tqdm(image_category_list):\n",
    "    images = glob(f\"/home/VirtualFlaw/Data/Raw_jpg/ACC/{i}*.jpg\")\n",
    "    images = natsort.natsorted(images)\n",
    "    add_img(i, images)\n",
    "    \n",
    "    "
   ]
  },
  {
   "cell_type": "code",
   "execution_count": null,
   "metadata": {},
   "outputs": [],
   "source": []
  }
 ],
 "metadata": {
  "kernelspec": {
   "display_name": "Python 3",
   "language": "python",
   "name": "python3"
  },
  "language_info": {
   "codemirror_mode": {
    "name": "ipython",
    "version": 3
   },
   "file_extension": ".py",
   "mimetype": "text/x-python",
   "name": "python",
   "nbconvert_exporter": "python",
   "pygments_lexer": "ipython3",
   "version": "3.8.10"
  },
  "orig_nbformat": 4,
  "vscode": {
   "interpreter": {
    "hash": "31f2aee4e71d21fbe5cf8b01ff0e069b9275f58929596ceb00d14d90e3e16cd6"
   }
  }
 },
 "nbformat": 4,
 "nbformat_minor": 2
}
