{
 "cells": [
  {
   "cell_type": "code",
   "execution_count": 1,
   "metadata": {},
   "outputs": [],
   "source": [
    "import os\n",
    "import config\n",
    "from tqdm import tqdm\n",
    "DATA_PATH = config.DATA_PATH\n",
    "import cv2\n",
    "import numpy as np\n",
    "from glob import glob\n",
    "import matplotlib.pyplot as plt\n",
    "import natsort\n",
    "import sklearn.cluster as cluster\n",
    "import preprocess as pp"
   ]
  },
  {
   "cell_type": "code",
   "execution_count": 3,
   "metadata": {},
   "outputs": [
    {
     "name": "stderr",
     "output_type": "stream",
     "text": [
      "100%|██████████| 103/103 [00:02<00:00, 45.29it/s]\n"
     ]
    },
    {
     "ename": "ValueError",
     "evalue": "zero-dimensional arrays cannot be concatenated",
     "output_type": "error",
     "traceback": [
      "\u001b[0;31m---------------------------------------------------------------------------\u001b[0m",
      "\u001b[0;31mValueError\u001b[0m                                Traceback (most recent call last)",
      "Cell \u001b[0;32mIn[3], line 8\u001b[0m\n\u001b[1;32m      5\u001b[0m     image \u001b[39m=\u001b[39m pp\u001b[39m.\u001b[39mWeldImage(image_list[i])\n\u001b[1;32m      6\u001b[0m     merge_image\u001b[39m.\u001b[39mappend(image)\n\u001b[0;32m----> 8\u001b[0m merge_image \u001b[39m=\u001b[39m np\u001b[39m.\u001b[39;49mconcatenate(merge_image, axis\u001b[39m=\u001b[39;49m\u001b[39m1\u001b[39;49m)\n\u001b[1;32m      9\u001b[0m merge_image \u001b[39m=\u001b[39m cv2\u001b[39m.\u001b[39mresize(merge_image, (\u001b[39m0\u001b[39m,\u001b[39m0\u001b[39m), fx\u001b[39m=\u001b[39m\u001b[39m0.25\u001b[39m, fy\u001b[39m=\u001b[39m\u001b[39m0.25\u001b[39m)\n\u001b[1;32m     10\u001b[0m cv2\u001b[39m.\u001b[39mimwrite(\u001b[39m\"\u001b[39m\u001b[39m/home/VirtualFlaw/Hyun/src/info/merge_adjustbrightne.jpg\u001b[39m\u001b[39m\"\u001b[39m, merge_image)\n",
      "File \u001b[0;32m<__array_function__ internals>:180\u001b[0m, in \u001b[0;36mconcatenate\u001b[0;34m(*args, **kwargs)\u001b[0m\n",
      "\u001b[0;31mValueError\u001b[0m: zero-dimensional arrays cannot be concatenated"
     ]
    }
   ],
   "source": [
    "image_list = glob(\"/home/VirtualFlaw/Data/Raw_jpg/New/22I002-02-011/*.jpg\")\n",
    "image_list = natsort.natsorted(image_list)\n",
    "merge_image = []\n",
    "for i in tqdm(range(len(image_list))):\n",
    "    image = pp.WeldImage(image_list[i])\n",
    "    image = image.adjustBrightness()\n",
    "    merge_image.append(image)\n",
    "\n",
    "merge_image = np.concatenate(merge_image, axis=1)\n",
    "merge_image = cv2.resize(merge_image, (0,0), fx=0.25, fy=0.25)\n",
    "cv2.imwrite(\"/home/VirtualFlaw/Hyun/src/info/merge_adjustbrightness.jpg\", merge_image)"
   ]
  },
  {
   "cell_type": "code",
   "execution_count": 4,
   "metadata": {},
   "outputs": [
    {
     "name": "stderr",
     "output_type": "stream",
     "text": [
      "100%|██████████| 103/103 [00:02<00:00, 47.28it/s]\n"
     ]
    },
    {
     "data": {
      "text/plain": [
       "True"
      ]
     },
     "execution_count": 4,
     "metadata": {},
     "output_type": "execute_result"
    }
   ],
   "source": [
    "image_list = glob(\"/home/VirtualFlaw/Data/Raw_jpg/New/22I002-02-011/*.jpg\")\n",
    "image_list = natsort.natsorted(image_list)\n",
    "merge_image = []\n",
    "for i in tqdm(range(len(image_list))):\n",
    "    image = pp.WeldImage(image_list[i])\n",
    "    image = image.image\n",
    "    merge_image.append(image)\n",
    "\n",
    "merge_image = np.concatenate(merge_image, axis=1)\n",
    "merge_image = cv2.resize(merge_image, (0,0), fx=0.25, fy=0.25)\n",
    "cv2.imwrite(\"/home/VirtualFlaw/Hyun/src/info/merge.jpg\", merge_image)"
   ]
  },
  {
   "cell_type": "code",
   "execution_count": 78,
   "metadata": {},
   "outputs": [],
   "source": [
    "type = \"REJ\"\n",
    "image_list = os.listdir(f\"/home/VirtualFlaw/Data/Raw_jpg/{type}\")\n",
    "for i in image_list:\n",
    "    image = cv2.imread(f\"/home/VirtualFlaw/Data/Raw_jpg/{type}/{i}\")\n",
    "    #resize 1/2\n",
    "    image = cv2.resize(image, dsize=(0, 0), fx=0.5, fy=0.5, interpolation=cv2.INTER_LINEAR)\n",
    "    cv2.imwrite(f\"/home/VirtualFlaw/Hyun/Data/resized/one_per_two/{type}/{i}\", image)"
   ]
  },
  {
   "cell_type": "code",
   "execution_count": 12,
   "metadata": {},
   "outputs": [],
   "source": [
    "def concat_img(type, file_name, image_list):\n",
    "    try:\n",
    "        merge_img = []\n",
    "        for i in range(len(image_list)):\n",
    "            img = cv2.imread(image_list[i])\n",
    "            merge_img.append(img)\n",
    "        merge_img = np.concatenate(merge_img, axis=1)\n",
    "        merge_img = cv2.cvtColor(merge_img, cv2.COLOR_BGR2GRAY)\n",
    "        cv2.imwrite(f\"/home/VirtualFlaw/Data/Raw_jpg/{type}_Merged/{file_name}.jpg\", merge_img)\n",
    "    except Exception as e:\n",
    "        print(e)"
   ]
  },
  {
   "cell_type": "code",
   "execution_count": 9,
   "metadata": {},
   "outputs": [
    {
     "name": "stderr",
     "output_type": "stream",
     "text": [
      "100%|██████████| 555/555 [10:57<00:00,  1.18s/it]\n"
     ]
    }
   ],
   "source": [
    "def concat_img(file_name, image_list):\n",
    "    try:\n",
    "        merge_img = []\n",
    "        for i in range(len(image_list)):\n",
    "            img = cv2.imread(image_list[i])\n",
    "            merge_img.append(img)\n",
    "        merge_img = np.concatenate(merge_img, axis=1)\n",
    "        merge_img = cv2.cvtColor(merge_img, cv2.COLOR_BGR2GRAY)\n",
    "        cv2.imwrite(f\"/home/VirtualFlaw/Hyun/Data/New/{file_name}.jpg\", merge_img)\n",
    "    except Exception as e:\n",
    "        print(e)\n",
    "        \n",
    "image_list = os.listdir(f\"/home/VirtualFlaw/Data/Raw_jpg/New\")\n",
    "image_category_list = []\n",
    "for i in range(len(image_list)):\n",
    "    image_category_list.append(image_list[i].split(\"-\")[0] + \"-\" + image_list[i].split(\"-\")[1] + \"-\" + image_list[i].split(\"-\")[2]+ \"-\" + image_list[i].split(\"-\")[3]+ \"-\" + image_list[i].split(\"-\")[4]+ \"-\" + image_list[i].split(\"-\")[5])\n",
    "image_category_list = list(set(image_category_list))\n",
    "for i in tqdm(image_category_list):\n",
    "    images = glob(f\"/home/VirtualFlaw/Data/Raw_jpg/New/{i}*.jpg\")\n",
    "    images = natsort.natsorted(images)\n",
    "    concat_img(i, images)\n",
    "    \n",
    "    "
   ]
  },
  {
   "cell_type": "code",
   "execution_count": null,
   "metadata": {},
   "outputs": [],
   "source": [
    "def concat_img(type, file_name, image_list):\n",
    "    try:\n",
    "        merge_img = []\n",
    "        for i in range(len(image_list)):\n",
    "            img = cv2.imread(image_list[i])\n",
    "            data = img.reshape((-1, 3)).astype(np.float32)\n",
    "            criteria = (cv2.TERM_CRITERIA_EPS | cv2.TERM_CRITERIA_MAX_ITER, 10, .0)\n",
    "            k = 4\n",
    "            ret, label, center = cv2.kmeans(data, k, None, criteria, 10, cv2.KMEANS_RANDOM_CENTERS)\n",
    "            center = np.uint8(center)\n",
    "            res = center[label.flatten()]\n",
    "            img = res.reshape((img.shape))\n",
    "            img = cv2.cvtColor(img, cv2.COLOR_BGR2RGB)\n",
    "            merge_img.append(img)\n",
    "        merge_img = np.concatenate(merge_img, axis=1)\n",
    "        merge_img = cv2.cvtColor(merge_img, cv2.COLOR_BGR2GRAY)\n",
    "        cv2.imwrite(f\"/home/VirtualFlaw/Data/Raw_jpg/{type}_test/{file_name}.jpg\", merge_img)\n",
    "    except Exception as e:\n",
    "        print(e)"
   ]
  },
  {
   "cell_type": "code",
   "execution_count": 13,
   "metadata": {},
   "outputs": [
    {
     "name": "stderr",
     "output_type": "stream",
     "text": [
      "100%|██████████| 60/60 [31:40<00:00, 31.67s/it]\n"
     ]
    }
   ],
   "source": [
    "type = \"ACC\"\n",
    "image_list = os.listdir(f\"/home/VirtualFlaw/Data/Raw_jpg/{type}\")\n",
    "image_category_list = []\n",
    "for i in range(len(image_list)):\n",
    "    image_category_list.append(image_list[i].split(\"-\")[0] + \"-\" + image_list[i].split(\"-\")[1] + \"-\" + image_list[i].split(\"-\")[2]+ \"-\" + image_list[i].split(\"-\")[3]+ \"-\" + image_list[i].split(\"-\")[4]+ \"-\" + image_list[i].split(\"-\")[5])\n",
    "image_category_list = list(set(image_category_list))\n",
    "for i in tqdm(image_category_list):\n",
    "    images = glob(f\"/home/VirtualFlaw/Data/Raw_jpg/ACC/{i}*.jpg\")\n",
    "    images = natsort.natsorted(images)\n",
    "    concat_img(type, i, images)\n",
    "    \n",
    "    "
   ]
  },
  {
   "cell_type": "code",
   "execution_count": null,
   "metadata": {},
   "outputs": [],
   "source": [
    "# Load image\n",
    "img_list = glob.glob(\"/home/VirtualFlaw/Data/Raw_jpg/ACC_Merged/*\")\n",
    "for img in tqdm(img_list):\n",
    "    print(img)\n",
    "    print(\"k-means clustering.\")\n",
    "    image = cv2.imread(img)\n",
    "    origin_image = image.copy()\n",
    "    data = image.reshape((-1, 3)).astype(np.float32)\n",
    "\n",
    "    criteria = (cv2.TERM_CRITERIA_EPS | cv2.TERM_CRITERIA_MAX_ITER, 10, .0)\n",
    "\n",
    "    k = 5\n",
    "    ret, label, center = cv2.kmeans(data, k, None, criteria, 10, cv2.KMEANS_RANDOM_CENTERS)\n",
    "    center = np.uint8(center)\n",
    "    res = center[label.flatten()]\n",
    "    image = res.reshape((image.shape))\n",
    "    image = cv2.cvtColor(image, cv2.COLOR_BGR2RGB)\n",
    "    \n",
    "    print(\"Sobel filtering.\")\n",
    "    #sobel\n",
    "    sobelx = cv2.Sobel(image, cv2.CV_64F, 0, 1, ksize=5)\n",
    "    sobel = np.uint8(sobelx)\n",
    "\n",
    "    #CV_8UC1 change\n",
    "    sobel = cv2.cvtColor(sobel, cv2.COLOR_BGR2GRAY)\n",
    "    print(\"Hough transform.\")\n",
    "    # 허프 변환 적용 \n",
    "    try:\n",
    "        lines = cv2.HoughLines(sobel, 1, np.pi/180, 615)\n",
    "        x1, y1, x2, y2 = [], [], [], []\n",
    "        for i in lines:\n",
    "            rho, theta = i[0]\n",
    "            a = np.cos(theta)\n",
    "            b = np.sin(theta)\n",
    "            x0 = a * rho\n",
    "            y0 = b * rho\n",
    "            x1.append(int(x0 + 1500 * (-b)))\n",
    "            y1.append(int(y0 + 1500 * (a)))\n",
    "            x2.append(int(x0 - 1500 * (-b)))\n",
    "            y2.append(int(y0 - 1500 * (a)))\n",
    "            \n",
    "\n",
    "        x1_max, x2_max = int(max(x1)), int(max(x2))\n",
    "        y1_max, y2_max = int(max(y1)), int(max(y2))\n",
    "        x1_min, x2_min = int(min(x1)), int(min(x2))\n",
    "        y1_min, y2_min = int(min(y1)), int(min(y2)) \n",
    "        \n",
    "        y1 = int((y1_max + y2_max) / 2)\n",
    "        y2 = int((y1_min + y2_min) / 2)\n",
    "        cv2.line(image, (0, y1), (1256, y1), (0, 255, 0), 2)\n",
    "        cv2.line(image, (0, y2), (1256, y2), (0, 255, 0), 2)\n",
    "        \n",
    "        #merged = cv2.addWeighted(origin_image, 0.5, image, 0.5, 0)\n",
    "        cv2.imwrite(\"/home/VirtualFlaw/Hyun/Data/EdgeDetection3/{}\".format(img.split(\"/\")[-1]), image)\n",
    "        if abs(y1 - y2) < 400 and abs(y1 - y2) > 150:\n",
    "            cv2.imwrite(\"/home/VirtualFlaw/Hyun/Data/EdgeDetection3_Best/{}\".format(img.split(\"/\")[-1]), image)\n",
    "    except Exception as e:\n",
    "        print(e, img)\n",
    "        continue\n",
    "#save "
   ]
  }
 ],
 "metadata": {
  "kernelspec": {
   "display_name": "Python 3 (ipykernel)",
   "language": "python",
   "name": "python3"
  },
  "language_info": {
   "codemirror_mode": {
    "name": "ipython",
    "version": 3
   },
   "file_extension": ".py",
   "mimetype": "text/x-python",
   "name": "python",
   "nbconvert_exporter": "python",
   "pygments_lexer": "ipython3",
   "version": "3.8.10"
  },
  "orig_nbformat": 4,
  "vscode": {
   "interpreter": {
    "hash": "31f2aee4e71d21fbe5cf8b01ff0e069b9275f58929596ceb00d14d90e3e16cd6"
   }
  }
 },
 "nbformat": 4,
 "nbformat_minor": 2
}
