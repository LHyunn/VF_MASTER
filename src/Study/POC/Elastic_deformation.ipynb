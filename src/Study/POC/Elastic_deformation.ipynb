{
 "cells": [
  {
   "cell_type": "code",
   "execution_count": 311,
   "metadata": {},
   "outputs": [],
   "source": [
    "import numpy as np\n",
    "import cv2\n",
    "import matplotlib.pyplot as plt\n",
    "import elasticdeform\n",
    "import random\n",
    "from glob import glob"
   ]
  },
  {
   "cell_type": "code",
   "execution_count": 312,
   "metadata": {},
   "outputs": [],
   "source": [
    "image_path = glob(\"/home/VirtualFlaw/RT_Project/src/Study/Extracted_PO_Flaw/*.jpg\", recursive=True)\n",
    "save_path = \"/home/VirtualFlaw/RT_Project/src/Study/Elastic_Deformation/\"\n",
    "\n",
    "for i in range(len(image_path)):\n",
    "    img = cv2.imread(image_path[i], cv2.IMREAD_GRAYSCALE)\n",
    "    for j in range(5):\n",
    "        sigma = random.randint(1, 4)\n",
    "        points = random.randint(1, 3)\n",
    "        img_deformed = elasticdeform.deform_random_grid(img, sigma=sigma, points=points, order=1)\n",
    "        cv2.imwrite(save_path + image_path[i].split(\"/\")[-1].split(\".\")[0] + \"_deformed_\" + str(j) + \".jpg\", img_deformed)"
   ]
  },
  {
   "cell_type": "code",
   "execution_count": null,
   "metadata": {},
   "outputs": [],
   "source": []
  },
  {
   "cell_type": "markdown",
   "metadata": {},
   "source": []
  }
 ],
 "metadata": {
  "kernelspec": {
   "display_name": "Python 3",
   "language": "python",
   "name": "python3"
  },
  "language_info": {
   "codemirror_mode": {
    "name": "ipython",
    "version": 3
   },
   "file_extension": ".py",
   "mimetype": "text/x-python",
   "name": "python",
   "nbconvert_exporter": "python",
   "pygments_lexer": "ipython3",
   "version": "3.8.10"
  },
  "orig_nbformat": 4
 },
 "nbformat": 4,
 "nbformat_minor": 2
}
