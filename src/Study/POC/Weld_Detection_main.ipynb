{
 "cells": [
  {
   "cell_type": "code",
   "execution_count": 1,
   "metadata": {},
   "outputs": [],
   "source": [
    "from tqdm import tqdm\n",
    "import os\n",
    "import cv2\n",
    "import preprocess as pp\n",
    "from glob import glob"
   ]
  },
  {
   "cell_type": "code",
   "execution_count": 2,
   "metadata": {},
   "outputs": [
    {
     "name": "stdout",
     "output_type": "stream",
     "text": [
      "38584\n"
     ]
    },
    {
     "name": "stderr",
     "output_type": "stream",
     "text": [
      "100%|██████████| 38584/38584 [14:44<00:00, 43.61it/s]\n"
     ]
    }
   ],
   "source": [
    "image_path = glob(\"/home/VirtualFlaw/Data/Raw_jpg/**/*.jpg\", recursive=True)\n",
    "save_path = \"/home/VirtualFlaw/Hyun/Data/Weld/\"\n",
    "print(len(image_path))\n",
    "error_list = []\n",
    "for i in tqdm(range(len(image_path))):\n",
    "    if os.path.isfile(image_path[i]):\n",
    "        try:\n",
    "            os.makedirs(save_path +image_path[i].split(\"/\")[-3]+\"/\"+image_path[i].split(\"/\")[-2], exist_ok=True)\n",
    "            weld_image = pp.WeldImage(image_path[i], padding=50)\n",
    "            cv2.imwrite(save_path +image_path[i].split(\"/\")[-3]+\"/\"+image_path[i].split(\"/\")[-2]+\"/\"+image_path[i].split(\"/\")[-1], weld_image.getWeldImage())\n",
    "        except:\n",
    "            error_list.append(image_path[i])\n",
    "            pass\n"
   ]
  },
  {
   "cell_type": "code",
   "execution_count": 4,
   "metadata": {},
   "outputs": [
    {
     "name": "stdout",
     "output_type": "stream",
     "text": [
      "977\n"
     ]
    }
   ],
   "source": [
    "print(len(error_list))"
   ]
  },
  {
   "cell_type": "code",
   "execution_count": null,
   "metadata": {},
   "outputs": [],
   "source": []
  }
 ],
 "metadata": {
  "kernelspec": {
   "display_name": "Python 3",
   "language": "python",
   "name": "python3"
  },
  "language_info": {
   "codemirror_mode": {
    "name": "ipython",
    "version": 3
   },
   "file_extension": ".py",
   "mimetype": "text/x-python",
   "name": "python",
   "nbconvert_exporter": "python",
   "pygments_lexer": "ipython3",
   "version": "3.8.10"
  },
  "orig_nbformat": 4,
  "vscode": {
   "interpreter": {
    "hash": "31f2aee4e71d21fbe5cf8b01ff0e069b9275f58929596ceb00d14d90e3e16cd6"
   }
  }
 },
 "nbformat": 4,
 "nbformat_minor": 2
}
