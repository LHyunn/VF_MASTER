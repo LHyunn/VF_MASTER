{
 "cells": [
  {
   "cell_type": "code",
   "execution_count": 1,
   "metadata": {},
   "outputs": [],
   "source": [
    "import cv2\n",
    "import numpy as np\n",
    "import matplotlib.pyplot as plt\n",
    "import os\n",
    "import glob"
   ]
  },
  {
   "cell_type": "code",
   "execution_count": null,
   "metadata": {},
   "outputs": [],
   "source": [
    "image = cv2.imread('/home/VirtualFlaw/RT_Project/src/Study/PO_Origin/22D017-07-023-1st-1-(2)-3-R-PO.jpg', cv2.IMREAD_GRAYSCALE)\n"
   ]
  },
  {
   "cell_type": "code",
   "execution_count": null,
   "metadata": {},
   "outputs": [],
   "source": [
    "plt.figure(figsize=(10,10))\n",
    "plt.imshow(image, cmap='gray')"
   ]
  },
  {
   "cell_type": "code",
   "execution_count": null,
   "metadata": {},
   "outputs": [],
   "source": [
    "#이미지의 1줄을 추출\n",
    "\n",
    "\n",
    "sorted_image = np.zeros((image.shape[0], image.shape[1]))\n",
    "for i in range(0, image.shape[0]):\n",
    "    line = image[i, :]\n",
    "    #line에서 높은 값이 중앙에 오도록 정렬\n",
    "    sorted_line = np.sort(line)\n",
    "    sorted_image[i, :] = sorted_line\n",
    "    \n",
    "    \n",
    "#flip image\n",
    "sorted_image_flip = np.flip(sorted_image, 1)\n",
    "concat_image = np.concatenate((sorted_image, sorted_image_flip), axis=1)\n",
    "concat_image = cv2.resize(concat_image, (image.shape[1], image.shape[0]))\n",
    "plt.figure(figsize=(20, 20))\n",
    "plt.imshow(concat_image, cmap='gray')\n",
    "\n",
    "    \n"
   ]
  },
  {
   "cell_type": "code",
   "execution_count": null,
   "metadata": {},
   "outputs": [],
   "source": [
    "def sort_image(image):\n",
    "    cv2.imread(image, cv2.IMREAD_GRAYSCALE)\n",
    "    sorted_image = np.zeros((image.shape[0], image.shape[1]))\n",
    "    for i in range(0, image.shape[0]):\n",
    "        line = image[i, :]\n",
    "        #line에서 높은 값이 중앙에 오도록 정렬\n",
    "        sorted_line = np.sort(line)\n",
    "        sorted_image[i, :] = sorted_line\n",
    "    sorted_image_flip = np.flip(sorted_image, 1)\n",
    "    concat_image = np.concatenate((sorted_image, sorted_image_flip), axis=1)\n",
    "    concat_image = cv2.resize(concat_image, (image.shape[1], image.shape[0]))\n",
    "    cv2.imwrite('/home/VirtualFlaw/RT_Project/src/Study/PO_Sorted/22D017-07-023-1st-1-(2)-3-R-PO.png', concat_image)\n",
    "    "
   ]
  },
  {
   "cell_type": "code",
   "execution_count": 2,
   "metadata": {},
   "outputs": [
    {
     "name": "stderr",
     "output_type": "stream",
     "text": [
      "2023-05-11 03:18:40,063\tINFO worker.py:1544 -- Started a local Ray instance. View the dashboard at \u001b[1m\u001b[32mhttp://127.0.0.1:8265 \u001b[39m\u001b[22m\n"
     ]
    },
    {
     "data": {
      "text/html": [
       "<div>\n",
       "    <div style=\"margin-left: 50px;display: flex;flex-direction: row;align-items: center\">\n",
       "        <h3 style=\"color: var(--jp-ui-font-color0)\">Ray</h3>\n",
       "        <svg version=\"1.1\" id=\"ray\" width=\"3em\" viewBox=\"0 0 144.5 144.6\" style=\"margin-left: 3em;margin-right: 3em\">\n",
       "            <g id=\"layer-1\">\n",
       "                <path fill=\"#00a2e9\" class=\"st0\" d=\"M97.3,77.2c-3.8-1.1-6.2,0.9-8.3,5.1c-3.5,6.8-9.9,9.9-17.4,9.6S58,88.1,54.8,81.2c-1.4-3-3-4-6.3-4.1\n",
       "                    c-5.6-0.1-9.9,0.1-13.1,6.4c-3.8,7.6-13.6,10.2-21.8,7.6C5.2,88.4-0.4,80.5,0,71.7c0.1-8.4,5.7-15.8,13.8-18.2\n",
       "                    c8.4-2.6,17.5,0.7,22.3,8c1.3,1.9,1.3,5.2,3.6,5.6c3.9,0.6,8,0.2,12,0.2c1.8,0,1.9-1.6,2.4-2.8c3.5-7.8,9.7-11.8,18-11.9\n",
       "                    c8.2-0.1,14.4,3.9,17.8,11.4c1.3,2.8,2.9,3.6,5.7,3.3c1-0.1,2,0.1,3,0c2.8-0.5,6.4,1.7,8.1-2.7s-2.3-5.5-4.1-7.5\n",
       "                    c-5.1-5.7-10.9-10.8-16.1-16.3C84,38,81.9,37.1,78,38.3C66.7,42,56.2,35.7,53,24.1C50.3,14,57.3,2.8,67.7,0.5\n",
       "                    C78.4-2,89,4.7,91.5,15.3c0.1,0.3,0.1,0.5,0.2,0.8c0.7,3.4,0.7,6.9-0.8,9.8c-1.7,3.2-0.8,5,1.5,7.2c6.7,6.5,13.3,13,19.8,19.7\n",
       "                    c1.8,1.8,3,2.1,5.5,1.2c9.1-3.4,17.9-0.6,23.4,7c4.8,6.9,4.6,16.1-0.4,22.9c-5.4,7.2-14.2,9.9-23.1,6.5c-2.3-0.9-3.5-0.6-5.1,1.1\n",
       "                    c-6.7,6.9-13.6,13.7-20.5,20.4c-1.8,1.8-2.5,3.2-1.4,5.9c3.5,8.7,0.3,18.6-7.7,23.6c-7.9,5-18.2,3.8-24.8-2.9\n",
       "                    c-6.4-6.4-7.4-16.2-2.5-24.3c4.9-7.8,14.5-11,23.1-7.8c3,1.1,4.7,0.5,6.9-1.7C91.7,98.4,98,92.3,104.2,86c1.6-1.6,4.1-2.7,2.6-6.2\n",
       "                    c-1.4-3.3-3.8-2.5-6.2-2.6C99.8,77.2,98.9,77.2,97.3,77.2z M72.1,29.7c5.5,0.1,9.9-4.3,10-9.8c0-0.1,0-0.2,0-0.3\n",
       "                    C81.8,14,77,9.8,71.5,10.2c-5,0.3-9,4.2-9.3,9.2c-0.2,5.5,4,10.1,9.5,10.3C71.8,29.7,72,29.7,72.1,29.7z M72.3,62.3\n",
       "                    c-5.4-0.1-9.9,4.2-10.1,9.7c0,0.2,0,0.3,0,0.5c0.2,5.4,4.5,9.7,9.9,10c5.1,0.1,9.9-4.7,10.1-9.8c0.2-5.5-4-10-9.5-10.3\n",
       "                    C72.6,62.3,72.4,62.3,72.3,62.3z M115,72.5c0.1,5.4,4.5,9.7,9.8,9.9c5.6-0.2,10-4.8,10-10.4c-0.2-5.4-4.6-9.7-10-9.7\n",
       "                    c-5.3-0.1-9.8,4.2-9.9,9.5C115,72.1,115,72.3,115,72.5z M19.5,62.3c-5.4,0.1-9.8,4.4-10,9.8c-0.1,5.1,5.2,10.4,10.2,10.3\n",
       "                    c5.6-0.2,10-4.9,9.8-10.5c-0.1-5.4-4.5-9.7-9.9-9.6C19.6,62.3,19.5,62.3,19.5,62.3z M71.8,134.6c5.9,0.2,10.3-3.9,10.4-9.6\n",
       "                    c0.5-5.5-3.6-10.4-9.1-10.8c-5.5-0.5-10.4,3.6-10.8,9.1c0,0.5,0,0.9,0,1.4c-0.2,5.3,4,9.8,9.3,10\n",
       "                    C71.6,134.6,71.7,134.6,71.8,134.6z\"/>\n",
       "            </g>\n",
       "        </svg>\n",
       "        <table>\n",
       "            <tr>\n",
       "                <td style=\"text-align: left\"><b>Python version:</b></td>\n",
       "                <td style=\"text-align: left\"><b>3.8.10</b></td>\n",
       "            </tr>\n",
       "            <tr>\n",
       "                <td style=\"text-align: left\"><b>Ray version:</b></td>\n",
       "                <td style=\"text-align: left\"><b> 2.3.1</b></td>\n",
       "            </tr>\n",
       "            <tr>\n",
       "    <td style=\"text-align: left\"><b>Dashboard:</b></td>\n",
       "    <td style=\"text-align: left\"><b><a href=\"http://127.0.0.1:8265\" target=\"_blank\">http://127.0.0.1:8265</a></b></td>\n",
       "</tr>\n",
       "\n",
       "        </table>\n",
       "    </div>\n",
       "</div>\n"
      ],
      "text/plain": [
       "RayContext(dashboard_url='127.0.0.1:8265', python_version='3.8.10', ray_version='2.3.1', ray_commit='5f14cee8dfc6d61ec4fd3bc2c440f9944e92b33a', address_info={'node_ip_address': '203.250.72.8', 'raylet_ip_address': '203.250.72.8', 'redis_address': None, 'object_store_address': '/tmp/ray/session_2023-05-11_03-18-38_173254_210862/sockets/plasma_store', 'raylet_socket_name': '/tmp/ray/session_2023-05-11_03-18-38_173254_210862/sockets/raylet', 'webui_url': '127.0.0.1:8265', 'session_dir': '/tmp/ray/session_2023-05-11_03-18-38_173254_210862', 'metrics_export_port': 62888, 'gcs_address': '203.250.72.8:62658', 'address': '203.250.72.8:62658', 'dashboard_agent_listen_port': 52365, 'node_id': '99d018753d36229984a0a5a01aba5ffce16ba728da0e1824c06a2ea5'})"
      ]
     },
     "execution_count": 2,
     "metadata": {},
     "output_type": "execute_result"
    }
   ],
   "source": [
    "import ray\n",
    "ray.init(num_cpus=70)"
   ]
  },
  {
   "cell_type": "code",
   "execution_count": 4,
   "metadata": {},
   "outputs": [],
   "source": [
    "image_path = glob.glob('/home/VirtualFlaw/RT_Project/data2/**/*.jpg', recursive=True)\n",
    "\n",
    "@ray.remote\n",
    "def sort_image(image):\n",
    "    img = cv2.imread(image, cv2.IMREAD_GRAYSCALE)\n",
    "    sorted_image = np.zeros((img.shape[0], img.shape[1]))\n",
    "    for i in range(0, img.shape[0]):\n",
    "        line = img[i, :]\n",
    "        #line에서 높은 값이 중앙에 오도록 정렬\n",
    "        sorted_line = np.sort(line)\n",
    "        sorted_image[i, :] = sorted_line\n",
    "    sorted_image_flip = np.flip(sorted_image, 1)\n",
    "    concat_image = np.concatenate((sorted_image, sorted_image_flip), axis=1)\n",
    "    concat_image = cv2.resize(concat_image, (img.shape[1], img.shape[0]))\n",
    "    cv2.imwrite(image, concat_image)\n",
    "    \n",
    "for image in image_path:\n",
    "    sort_image.remote(image)\n",
    "    \n",
    "    \n",
    "\n",
    "    "
   ]
  },
  {
   "cell_type": "code",
   "execution_count": null,
   "metadata": {},
   "outputs": [],
   "source": [
    "def image_centering(image, variance = 0):\n",
    "    if abs(variance) > 500:\n",
    "        print(\"variance is out of range\")\n",
    "        return None\n",
    "    image_shape = image.shape\n",
    "    weld_part = preprocess.detect_weld(image)\n",
    "    if weld_part == (-1, -1):\n",
    "        print(\"Weld part is out of range\")\n",
    "        return None\n",
    "\n",
    "    y1, y2 = weld_part\n",
    "    center = (y1 + y2) // 2 + image_shape[0] + variance\n",
    "    flip_image = cv2.flip(image, 0)\n",
    "    image = np.concatenate((flip_image, image, flip_image), axis=0)\n",
    "    image = image[center - image_shape[0] // 2: center + image_shape[0] // 2, :]\n",
    "    return image\n",
    "    \n",
    "    \n",
    "    "
   ]
  }
 ],
 "metadata": {
  "kernelspec": {
   "display_name": "Python 3",
   "language": "python",
   "name": "python3"
  },
  "language_info": {
   "codemirror_mode": {
    "name": "ipython",
    "version": 3
   },
   "file_extension": ".py",
   "mimetype": "text/x-python",
   "name": "python",
   "nbconvert_exporter": "python",
   "pygments_lexer": "ipython3",
   "version": "3.8.10"
  },
  "orig_nbformat": 4
 },
 "nbformat": 4,
 "nbformat_minor": 2
}
