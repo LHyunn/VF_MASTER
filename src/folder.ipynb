{
 "cells": [
  {
   "cell_type": "code",
   "execution_count": null,
   "metadata": {},
   "outputs": [],
   "source": [
    "from glob import glob\n",
    "import os"
   ]
  },
  {
   "cell_type": "code",
   "execution_count": null,
   "metadata": {},
   "outputs": [],
   "source": [
    "image_path_CT = glob(\"/home/dais01/VF_MASTER/Data/origin/CT/*.png\")\n",
    "image_path_Leftover = glob(\"/home/dais01/VF_MASTER/Data/origin/Leftover/*.png\")\n",
    "image_path_Scratch = glob(\"/home/dais01/VF_MASTER/Data/origin/Scratch/*.png\")\n",
    "image_path = glob(\"/home/dais01/VF_MASTER/Data/SD/Extracted_Flaw/*.png\") + glob(\"/home/dais01/VF_MASTER/Data/SD/Extracted_Flaw/*.npy\")\n",
    "\n",
    "folder = \"/home/dais01/VF_MASTER/Data/SD/Extracted_Flaw/\"\n",
    "\n",
    "for image in range(len(image_path_CT)):\n",
    "    print(image_path_CT[image].split(\"/\")[-1])\n",
    "    for i in range(len(image_path)):"
   ]
  },
  {
   "cell_type": "code",
   "execution_count": null,
   "metadata": {},
   "outputs": [],
   "source": [
    "image_path_CT = glob(\"/home/dais01/VF_MASTER/Data/origin/CT/*.png\")\n",
    "image_path_Leftover = glob(\"/home/dais01/VF_MASTER/Data/origin/Leftover/*.png\")\n",
    "image_path_Scratch = glob(\"/home/dais01/VF_MASTER/Data/origin/Scratch/*.png\")\n",
    "image_path = glob(\"/home/dais01/VF_MASTER/Data/SD/Extracted_Flaw/*.png\") + glob(\"/home/dais01/VF_MASTER/Data/SD/Extracted_Flaw/*.npy\")\n",
    "\n",
    "folder = \"/home/dais01/VF_MASTER/Data/SD/Extracted_Flaw/\"\n",
    "os.makedirs(folder + \"CT\", exist_ok=True)\n",
    "os.makedirs(folder + \"Leftover\", exist_ok=True)\n",
    "os.makedirs(folder + \"Scratch\", exist_ok=True)\n",
    "\n",
    "for image in range(len(image_path_CT)):\n",
    "    for i in range(len(image_path)):\n",
    "        if image_path_CT[image].split(\"/\")[-1].split(\".\")[0] == image_path[i].split(\"/\")[-1].split(\"_\")[0]:\n",
    "            os.rename(image_path[i], folder + \"CT/\" + image_path[i].split(\"/\")[-1])\n",
    "            break\n",
    "\n",
    "for image in range(len(image_path_Leftover)):\n",
    "    for i in range(len(image_path)):\n",
    "        if image_path_Leftover[image].split(\"/\")[-1].split(\".\")[0] == image_path[i].split(\"/\")[-1].split(\"_\")[0]:\n",
    "            os.rename(image_path[i], folder + \"Leftover/\" + image_path[i].split(\"/\")[-1])\n",
    "            break\n",
    "        \n",
    "for image in range(len(image_path_Scratch)):\n",
    "    for i in range(len(image_path)):\n",
    "        if image_path_Scratch[image].split(\"/\")[-1].split(\".\")[0] == image_path[i].split(\"/\")[-1].split(\"_\")[0]:\n",
    "            os.rename(image_path[i], folder + \"Scratch/\" + image_path[i].split(\"/\")[-1])\n",
    "            break"
   ]
  },
  {
   "cell_type": "code",
   "execution_count": null,
   "metadata": {},
   "outputs": [],
   "source": [
    "image = glob(\"/home/dais01/VF_MASTER/Data/SD/Extracted_Flaw/**/*.png\", recursive=True) + glob(\"/home/dais01/VF_MASTER/Data/SD/Extracted_Flaw/**/*.npy\", recursive=True)\n",
    "print(len(image))"
   ]
  },
  {
   "cell_type": "code",
   "execution_count": null,
   "metadata": {},
   "outputs": [],
   "source": []
  }
 ],
 "metadata": {
  "kernelspec": {
   "display_name": "Python 3",
   "language": "python",
   "name": "python3"
  },
  "language_info": {
   "codemirror_mode": {
    "name": "ipython",
    "version": 3
   },
   "file_extension": ".py",
   "mimetype": "text/x-python",
   "name": "python",
   "nbconvert_exporter": "python",
   "pygments_lexer": "ipython3",
   "version": "3.8.10"
  },
  "orig_nbformat": 4
 },
 "nbformat": 4,
 "nbformat_minor": 2
}
